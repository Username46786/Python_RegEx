{
 "cells": [
  {
   "cell_type": "markdown",
   "metadata": {},
   "source": [
    "# Welcome to the Notebook \n",
    "---\n",
    "\n",
    "## Task 1\n",
    "### What is Regex?\n",
    "\n",
    "Regular expressions (Regex) allow us to extract substrings with a specific pattern from a text.\n"
   ]
  },
  {
   "cell_type": "markdown",
   "metadata": {},
   "source": [
    "\n",
    "##### Meta characters: \n",
    "characters with special meaning \n",
    "\n",
    "<img src=\"images/t1.png\" >\n",
    "\n",
    "##### Special Sequences: \n",
    "Special Sequences with a special meaning\n",
    "\n",
    "<img src=\"images/t2.png\" >\n",
    "    "
   ]
  },
  {
   "cell_type": "code",
   "execution_count": 1,
   "metadata": {},
   "outputs": [],
   "source": [
    "import re"
   ]
  },
  {
   "cell_type": "code",
   "execution_count": 2,
   "metadata": {},
   "outputs": [],
   "source": [
    "paragraph = \"\"\"John is 24 years old and Sara is 23 and Maiki is 15 years old.\"\"\""
   ]
  },
  {
   "cell_type": "markdown",
   "metadata": {},
   "source": [
    "let's extract all ages"
   ]
  },
  {
   "cell_type": "code",
   "execution_count": 4,
   "metadata": {},
   "outputs": [
    {
     "data": {
      "text/plain": [
       "['24', '23', '15']"
      ]
     },
     "execution_count": 4,
     "metadata": {},
     "output_type": "execute_result"
    }
   ],
   "source": [
    "pattern_for_ages = r'\\d+'\n",
    "\n",
    "\n",
    "pattern_for_ages_2 = r'[0-9]+'\n",
    "ages = re.findall(pattern_for_ages_2, paragraph)\n",
    "ages"
   ]
  },
  {
   "cell_type": "markdown",
   "metadata": {},
   "source": [
    "let's extrac all names"
   ]
  },
  {
   "cell_type": "code",
   "execution_count": 7,
   "metadata": {},
   "outputs": [
    {
     "data": {
      "text/plain": [
       "['John', 'Sara', 'Maiki']"
      ]
     },
     "execution_count": 7,
     "metadata": {},
     "output_type": "execute_result"
    }
   ],
   "source": [
    "pattern_for_names = r'[A-Z][a-z]+'\n",
    "\n",
    "names = re.findall(pattern_for_names, paragraph)\n",
    "names"
   ]
  },
  {
   "cell_type": "markdown",
   "metadata": {},
   "source": [
    "## Task 2\n",
    "    - extracting phone numbers\n",
    "    - formatting phone numbers so that all of them has the same format\n",
    "    - extracting names\n",
    "    - storing the data into a python dictionary"
   ]
  },
  {
   "cell_type": "code",
   "execution_count": 8,
   "metadata": {},
   "outputs": [],
   "source": [
    "phone_numbers = \"\"\"\n",
    "john: 145-202-9330\n",
    "Sara: 156.201.3333\n",
    "maiki: 111*505*1254\n",
    "\"\"\""
   ]
  },
  {
   "cell_type": "markdown",
   "metadata": {},
   "source": [
    "Extracting phone numbers "
   ]
  },
  {
   "cell_type": "code",
   "execution_count": 9,
   "metadata": {},
   "outputs": [
    {
     "data": {
      "text/plain": [
       "['145-202-9330', '156.201.3333', '111*505*1254']"
      ]
     },
     "execution_count": 9,
     "metadata": {},
     "output_type": "execute_result"
    }
   ],
   "source": [
    "phone_pattern = r'\\d\\d\\d.\\d\\d\\d.\\d\\d\\d\\d'\n",
    "phones = re.findall(phone_pattern, phone_numbers)\n",
    "\n",
    "phones"
   ]
  },
  {
   "cell_type": "markdown",
   "metadata": {},
   "source": [
    "Reformatting phone numbers and then extracting them again"
   ]
  },
  {
   "cell_type": "code",
   "execution_count": 13,
   "metadata": {},
   "outputs": [
    {
     "data": {
      "text/plain": [
       "['145-202-9330', '156-201-3333', '111-505-1254']"
      ]
     },
     "execution_count": 13,
     "metadata": {},
     "output_type": "execute_result"
    }
   ],
   "source": [
    "replace_pattern = r'[.*]'\n",
    "phone_numbers = re.sub(replace_pattern, \"-\", phone_numbers)\n",
    "\n",
    "phone_pattern = r'\\d\\d\\d.\\d\\d\\d.\\d\\d\\d\\d'\n",
    "phone_pattern_2 = r'\\d{3}.\\d{3}.\\d{4}'\n",
    "phones = re.findall(phone_pattern, phone_numbers)\n",
    "\n",
    "phones\n"
   ]
  },
  {
   "cell_type": "markdown",
   "metadata": {},
   "source": [
    "Let's extract the names"
   ]
  },
  {
   "cell_type": "code",
   "execution_count": 14,
   "metadata": {},
   "outputs": [
    {
     "data": {
      "text/plain": [
       "['john', 'Sara', 'maiki']"
      ]
     },
     "execution_count": 14,
     "metadata": {},
     "output_type": "execute_result"
    }
   ],
   "source": [
    "name_pattern = r'[A-Z]?[a-z]+'\n",
    "names = re.findall(name_pattern, phone_numbers)\n",
    "names"
   ]
  },
  {
   "cell_type": "markdown",
   "metadata": {},
   "source": [
    "Let's store it into a dictionary"
   ]
  },
  {
   "cell_type": "code",
   "execution_count": 15,
   "metadata": {},
   "outputs": [
    {
     "data": {
      "text/plain": [
       "{'john': '111-505-1254', 'Sara': '111-505-1254', 'maiki': '111-505-1254'}"
      ]
     },
     "execution_count": 15,
     "metadata": {},
     "output_type": "execute_result"
    }
   ],
   "source": [
    "contacts = dict()\n",
    "for name in names:\n",
    "    for number in phones:\n",
    "        contacts[name] = number\n",
    "contacts"
   ]
  },
  {
   "cell_type": "markdown",
   "metadata": {},
   "source": [
    "## Task 3\n",
    "    the user enters his/her email, we want to check if the email address entered by the user is in a correct format.\n",
    "\n",
    "<img height= 400 width=600 src=\"images/emailparts.png\">"
   ]
  },
  {
   "cell_type": "code",
   "execution_count": null,
   "metadata": {},
   "outputs": [],
   "source": [
    "email = input(\"please enter your email address \")\n",
    "email_format = r'[A-Za-z0-9_.-]+@[A-Za-z-.]+\\.(com|net|edu|uk)'\n",
    "\n",
    "if re.match(email_format, email):\n",
    "    print(\"its ok\")\n",
    "else:\n",
    "    print(\"wrong format\")"
   ]
  },
  {
   "cell_type": "markdown",
   "metadata": {},
   "source": [
    "- Exercise: write a RegEx pattern that <b>does not</b> allow the user to enter an email address that begins with numbers."
   ]
  },
  {
   "cell_type": "code",
   "execution_count": null,
   "metadata": {},
   "outputs": [],
   "source": [
    "email = input(\"please enter your email address \")\n",
    "email_format = r'[A-Za-z0-9_.-]+@[A-Za-z-.]+\\.(com|net|edu|uk)'\n",
    "\n",
    "if re.match(email_format, email):\n",
    "    print(\"its ok\")\n",
    "else:\n",
    "    print(\"wrong format\")"
   ]
  },
  {
   "cell_type": "markdown",
   "metadata": {},
   "source": [
    "### Task 4\n",
    "     - write a RegEx pattern to recognize the following urls\n",
    "     - reformatting the urls into => domain name + top level domain \n",
    "       E.g. coursera.org\n",
    "    \n",
    "<img height= 400 width=600 src=\"images/urlparts.png\">"
   ]
  },
  {
   "cell_type": "code",
   "execution_count": null,
   "metadata": {},
   "outputs": [],
   "source": [
    "urls = \"\"\"\n",
    "https://www.google.com\n",
    "http://youtube.com\n",
    "https://www.nasa.gov\n",
    "https://coursera.org\n",
    "\"\"\"\n",
    "\n",
    "url_pattern = r'https?://(www\\.)?(\\w+)(\\.\\w+)'\n",
    "\n",
    "urls_list = re.findall(url_pattern, urls)\n",
    "urls_list\n",
    "\n",
    "for g1,g2,g3 in urls_list:\n",
    "    \n",
    "    new_urls += g2+g3+\"\\n\"\n",
    "    \n",
    "print(new_urls)"
   ]
  },
  {
   "cell_type": "markdown",
   "metadata": {},
   "source": [
    "let's reformat the urls\n"
   ]
  },
  {
   "cell_type": "code",
   "execution_count": null,
   "metadata": {},
   "outputs": [],
   "source": [
    "new_urls = re.sub(url_pattern, r'\\2\\3', urls)\n",
    "print(new_urls)"
   ]
  },
  {
   "cell_type": "markdown",
   "metadata": {},
   "source": [
    "- Exercise: below you can see a list of dates with different formats. reformat all the dates into dd/mm/yyyy using Regex."
   ]
  },
  {
   "cell_type": "code",
   "execution_count": null,
   "metadata": {},
   "outputs": [],
   "source": [
    "dates = \"\"\"\n",
    "12 01 2020\n",
    "15.05.2021\n",
    "07/03/2020\n",
    "10-3-2019\n",
    "\"\"\"\n"
   ]
  },
  {
   "cell_type": "code",
   "execution_count": null,
   "metadata": {},
   "outputs": [],
   "source": [
    "date_pattern = r\"(\\d{2}).(\\d{2}).(\\d{4})\"\n",
    "new_dates = re.sub(date_pattern, r'\\1/2/\\3',dates)\n",
    "print(new_dates)"
   ]
  },
  {
   "cell_type": "markdown",
   "metadata": {},
   "source": [
    "# Task 5\n",
    "\n",
    "### Text Mining using RegEx\n",
    "\n",
    "we have a dataset containing of some personal notes"
   ]
  },
  {
   "cell_type": "code",
   "execution_count": null,
   "metadata": {},
   "outputs": [],
   "source": [
    "import pandas as pd\n",
    "data = pd.read_csv(\"dataset.csv\")\n",
    "data"
   ]
  },
  {
   "cell_type": "markdown",
   "metadata": {},
   "source": [
    "We want to extract some useful information out of this text data and store them into a dataframe. <br>\n",
    "so let's create the dataframe"
   ]
  },
  {
   "cell_type": "code",
   "execution_count": null,
   "metadata": {},
   "outputs": [],
   "source": [
    "information = pd.DataFrame(columns=[\"day\", \"month\", \"year\", \"weekday\", \"time\"])\n",
    "information"
   ]
  },
  {
   "cell_type": "markdown",
   "metadata": {},
   "source": [
    "Counting the number of words in each note"
   ]
  },
  {
   "cell_type": "code",
   "execution_count": null,
   "metadata": {},
   "outputs": [],
   "source": [
    "data[\"notes\"].str.count(r\"\\w+\")\n"
   ]
  },
  {
   "cell_type": "markdown",
   "metadata": {},
   "source": [
    "Get the list of all of the words in each note"
   ]
  },
  {
   "cell_type": "code",
   "execution_count": null,
   "metadata": {},
   "outputs": [],
   "source": [
    "data[\"notes\"].str.findall(r\"\\w+\")\n"
   ]
  },
  {
   "cell_type": "markdown",
   "metadata": {},
   "source": [
    "Exercise: find all of the dates in each note"
   ]
  },
  {
   "cell_type": "code",
   "execution_count": null,
   "metadata": {},
   "outputs": [],
   "source": [
    "data['notes'].str.findall(\"\\d{2}.\\d{2}.\\d{4}\")\n"
   ]
  },
  {
   "cell_type": "markdown",
   "metadata": {},
   "source": [
    "let's clean these dates and extract them "
   ]
  },
  {
   "cell_type": "code",
   "execution_count": null,
   "metadata": {},
   "outputs": [],
   "source": [
    "data['notes'].str.replace(r'\\d{2}).(\\d{2}).(\\d{4})', lambda groups: groups[1]+\"/\"+groups[2]+\"/\"+groups[3]\n",
    "dates.str.extract(r'(?P<day>\\d{2}).(?P<month>(\\d{2}).(?P<year>(\\d{4})')\n",
    "dates_df"
   ]
  },
  {
   "cell_type": "markdown",
   "metadata": {},
   "source": [
    "Let's extract the times"
   ]
  },
  {
   "cell_type": "code",
   "execution_count": null,
   "metadata": {},
   "outputs": [],
   "source": [
    "time_df = data['notes'].str.extract('(?P<time>\\d+:\\d+)')\n",
    "time_df"
   ]
  },
  {
   "cell_type": "markdown",
   "metadata": {},
   "source": [
    "Exercise: Extract the weekday names"
   ]
  },
  {
   "cell_type": "code",
   "execution_count": null,
   "metadata": {},
   "outputs": [],
   "source": [
    "weekday_df = data['notes'].str.extract(\"?P<weekday>\\w+day\")\n",
    "weekday_df"
   ]
  },
  {
   "cell_type": "markdown",
   "metadata": {},
   "source": [
    "Now let's merge these three dataframes"
   ]
  },
  {
   "cell_type": "code",
   "execution_count": null,
   "metadata": {},
   "outputs": [],
   "source": [
    "information = dates_df.join(time_df).join(weekday_df)\n",
    "information"
   ]
  },
  {
   "cell_type": "markdown",
   "metadata": {},
   "source": [
    "Now we can do a lot of analysis based on this dataframe <br>\n",
    "\n",
    "Let's answer to this question: <b> In which days of the week, I am busier? </b>"
   ]
  },
  {
   "cell_type": "markdown",
   "metadata": {},
   "source": [
    "aggregate the dataframe on weekday column and count "
   ]
  },
  {
   "cell_type": "code",
   "execution_count": null,
   "metadata": {},
   "outputs": [],
   "source": [
    "information.weekday.value_counts()"
   ]
  },
  {
   "cell_type": "markdown",
   "metadata": {},
   "source": [
    "as another analytical question: In which months this year, I have been busier?"
   ]
  },
  {
   "cell_type": "code",
   "execution_count": null,
   "metadata": {},
   "outputs": [],
   "source": [
    "information[information.year==\"2021\"].month.value_counts()"
   ]
  },
  {
   "cell_type": "code",
   "execution_count": null,
   "metadata": {},
   "outputs": [],
   "source": []
  }
 ],
 "metadata": {
  "kernelspec": {
   "display_name": "Python 3 (ipykernel)",
   "language": "python",
   "name": "python3"
  },
  "language_info": {
   "codemirror_mode": {
    "name": "ipython",
    "version": 3
   },
   "file_extension": ".py",
   "mimetype": "text/x-python",
   "name": "python",
   "nbconvert_exporter": "python",
   "pygments_lexer": "ipython3",
   "version": "3.9.13"
  }
 },
 "nbformat": 4,
 "nbformat_minor": 4
}
